{
 "cells": [
  {
   "cell_type": "markdown",
   "metadata": {},
   "source": [
    "# Self-Driving Car\n",
    "\n",
    "---\n",
    "<font size=\"3\">\n",
    "    \n",
    "First apply computer vision and deep learning to automotive problems, including detecting lane lines, predicting steering angles, and more.\n",
    "Next, learn about sensor fusion, to filter data from an array of sensors in order to perceive the environment. Then, you'll work with a team to program Carla, Udacity’s real self-driving car. \n",
    "</font>\n",
    "\n",
    "---"
   ]
  },
  {
   "cell_type": "markdown",
   "metadata": {},
   "source": [
    "## Projects"
   ]
  },
  {
   "cell_type": "markdown",
   "metadata": {},
   "source": [
    "### Project 1: Advanced Lane Line Detection\n",
    "\n",
    "In this project, the goal is to write a software pipeline to identify the lane boundaries in a video\n",
    "* Compute the camera calibration matrix and distortion coefficients given a set of chessboard images.\n",
    "* Apply a distortion correction to raw images.\n",
    "* Use color transforms, gradients, etc., to create a thresholded binary image.\n",
    "* Apply a perspective transform to rectify binary image (\"birds-eye view\").\n",
    "* Detect lane pixels and fit to find the lane boundary.\n",
    "* Determine the curvature of the lane and vehicle position with respect to center.\n",
    "* Warp the detected lane boundaries back onto the original image.\n",
    "* Output visual display of the lane boundaries and numerical estimation of lane curvature and vehicle position\n",
    "\n",
    "<figure>\n",
    "    <kbd>\n",
    "    <img  src=\"./images/advanced_lane.gif\" alt=\"Drawing\" style=\"width: 500px;\"/>\n",
    "    </kbd>    \n",
    "    <p align=\"center\">Advanced Lane Line Detection</p>\n",
    "</figure>\n",
    "\n",
    "<table><tr>\n",
    "<td>\n",
    "<figure>\n",
    "    <img  src=\"./images/advanced_lane.gif\" alt=\"Drawing\" style=\"width: 500px;\"/>\n",
    "    <center>Advance Lane Detection</center>\n",
    "</figure></td>\n",
    "\n",
    "<td><figure>    \n",
    "    <kbd>\n",
    "    <img  src=\"./images/cloning.gif\" alt=\"Drawing\" style=\"width: 500px;\"/>\n",
    "    </kbd>\n",
    "    <center>Behavior Cloning</center>\n",
    "</figure>\n",
    "  </td>  </tr></table>\n"
   ]
  },
  {
   "cell_type": "markdown",
   "metadata": {},
   "source": [
    "---"
   ]
  },
  {
   "cell_type": "markdown",
   "metadata": {},
   "source": [
    "### Project 2: Face Generation\n",
    "\n",
    "Trained a DCGAN on a dataset of faces.Then new images of faces that look as realistic as possble are generated:\n",
    "\n",
    "<figure>\n",
    "    <img  src=\"./images/face_generation.png\" alt=\"Drawing\" style=\"height: 500 width: 1000px;\"/>\n",
    "    <center>Generated Face</center>\n"
   ]
  },
  {
   "cell_type": "markdown",
   "metadata": {},
   "source": [
    "### Project 3: Generate TV Script\n",
    "\n",
    "\n",
    "RNN network is trained to generate Seinfeld TV scripts. The training data are part of the Seinfeld dataset of scripts from 9 seasons. \n",
    "\n",
    "<figure>\n",
    "    <kbd>\n",
    "    <img  src=\"./images/generated_tv_script.png\" alt=\"Drawing\" style=\"height: 500 width: 1000px;\"/></kbd>\n",
    "    <center>Generated fake TV script</center>\n"
   ]
  },
  {
   "cell_type": "markdown",
   "metadata": {},
   "source": [
    "### Project 4: CNN Model Deployment\n",
    "\n",
    "This project is to build a simple web page in which a user can type in a movie review and the trained RNN model behind the scene predicts whether the review is positive or negative. The model is trained on IMDB dataset and deployed using AWS SageMaker\n",
    "\n",
    "<figure>\n",
    "    <img  src=\"./images/sagemaker-architecture.png\" alt=\"Drawing\" style=\"width: 450px;\"/>\n",
    "    <center>Sagemaker Architecture</center>\n",
    "</figure>\n",
    "\n",
    "\n",
    "Example results:\n",
    "<table><tr>\n",
    "<td>\n",
    "\n",
    "<figure>\n",
    "    <img  src=\"./images/review1.JPG\" alt=\"Drawing\" style=\"width: 450px;\"/>\n",
    "    <center>Lidar Obstcle Detection</center>\n",
    "</figure></td>\n",
    "\n",
    "<td><figure>    \n",
    "    <kbd>\n",
    "    <img  src=\"./images/review2.JPG\" alt=\"Drawing\" style=\"width: 450px;\"/>\n",
    "    </kbd>\n",
    "    <center>Lidar Obstcle Detection</center>\n",
    "</figure>\n",
    "  </td>  </tr></table>"
   ]
  }
 ],
 "metadata": {
  "kernelspec": {
   "display_name": "Python 2",
   "language": "python",
   "name": "python2"
  },
  "language_info": {
   "codemirror_mode": {
    "name": "ipython",
    "version": 2
   },
   "file_extension": ".py",
   "mimetype": "text/x-python",
   "name": "python",
   "nbconvert_exporter": "python",
   "pygments_lexer": "ipython2",
   "version": "2.7.12"
  }
 },
 "nbformat": 4,
 "nbformat_minor": 2
}
