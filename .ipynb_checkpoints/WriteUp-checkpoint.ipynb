{
 "cells": [
  {
   "cell_type": "markdown",
   "metadata": {},
   "source": [
    "# Self-Driving Car\n",
    "\n",
    "---\n",
    "<font size=\"3\">\n",
    "    \n",
    "First apply computer vision and deep learning to automotive problems, including detecting lane lines, predicting steering angles, and more.\n",
    "Next, learn about sensor fusion, to filter data from an array of sensors in order to perceive the environment. Then, you'll work with a team to program Carla, Udacity’s real self-driving car. \n",
    "</font>\n",
    "\n",
    "---"
   ]
  },
  {
   "cell_type": "markdown",
   "metadata": {},
   "source": [
    "## Projects"
   ]
  },
  {
   "cell_type": "markdown",
   "metadata": {},
   "source": [
    "### Project 1: Advanced Lane Line Detection\n",
    "\n",
    "In this project, the goal is to write a software pipeline to identify the lane boundaries in a video\n",
    "* Compute the camera calibration matrix and distortion coefficients given a set of chessboard images.\n",
    "* Apply a distortion correction to raw images.\n",
    "* Use color transforms, gradients, etc., to create a thresholded binary image.\n",
    "* Apply a perspective transform to rectify binary image (\"birds-eye view\").\n",
    "* Detect lane pixels and fit to find the lane boundary.\n",
    "* Determine the curvature of the lane and vehicle position with respect to center.\n",
    "* Warp the detected lane boundaries back onto the original image.\n",
    "* Output visual display of the lane boundaries and numerical estimation of lane curvature and vehicle position\n",
    "\n",
    "<figure>\n",
    "    <kbd>\n",
    "    <img  src=\"./images/advanced_lane.gif\" alt=\"Drawing\" style=\"width: 500px;\"/>\n",
    "    </kbd>    \n",
    "    <p align=\"center\">Advanced Lane Line Detection</p>\n",
    "</figure>\n",
    "\n",
    "<table><tr>\n",
    "<td>\n",
    "<figure>\n",
    "    <img  src=\"./images/advanced_lane.gif\" alt=\"Drawing\" style=\"width: 500px;\"/>\n",
    "    <center>Advance Lane Detection</center>\n",
    "</figure></td>\n",
    "\n",
    "<td><figure>    \n",
    "    <kbd>\n",
    "    <img  src=\"./images/cloning.gif\" alt=\"Drawing\" style=\"width: 500px;\"/>\n",
    "    </kbd>\n",
    "    <center>Behavior Cloning</center>\n",
    "</figure>\n",
    "  </td>  </tr></table>\n"
   ]
  },
  {
   "cell_type": "markdown",
   "metadata": {},
   "source": [
    "---"
   ]
  },
  {
   "cell_type": "markdown",
   "metadata": {},
   "source": [
    "### Project 2: Traffic Sign Classification\n",
    "\n",
    "In this project, a convolutional neural network is implemented to classify traffic signs. The traffic sign images is the German Traffic Sign Dataset.\n",
    "\n",
    "   * Load the data set\n",
    "   * Explore, summarize and visualize the data set\n",
    "   * Design, train and test a model architecture\n",
    "   * Use the model to make predictions on new images\n",
    "   * Analyze the softmax probabilities of the new images\n",
    "   * Summarize the results with a written report\n",
    "\n",
    "\n",
    "<figure>\n",
    "    <img  src=\"./images/traffic_sign.png\" alt=\"Drawing\" style=\"height: 500 width: 1000px;\"/>\n",
    "    <center>Data Distribution</center>\n"
   ]
  },
  {
   "cell_type": "markdown",
   "metadata": {},
   "source": [
    "### Project 3: Extended Kalman Filter\n",
    "\n",
    "\n",
    "Utilize a kalman filter to estimate the state of a moving object of interest with noisy lidar and radar measurements.\n",
    "\n",
    "<figure>\n",
    "    <kbd>\n",
    "    <img  src=\"./images/eklm.gif\" alt=\"Drawing\" style=\" width: 500px;\"/></kbd>\n",
    "</figure>\n"
   ]
  },
  {
   "cell_type": "markdown",
   "metadata": {},
   "source": [
    "### Project 4: Kidnapped Vehicle\n",
    "\n",
    "Figure out the Vehicle location based on map, a noisy GPS estimate, and other sensors data\n",
    "\n",
    "<figure>\n",
    "    <img  src=\"./images/kidnap.gif\" alt=\"Drawing\" style=\"width: 450px;\"/>\n",
    "    <center>Sagemaker Architecture</center>\n",
    "</figure>\n",
    "\n"
   ]
  },
  {
   "cell_type": "markdown",
   "metadata": {},
   "source": [
    "### Project 5: Behavioral Cloning\n",
    "\n",
    "Using deep neural networks and convolutional neural networks to clone driving behavior. Model is trained, validated and tested using Keras, and output a sterring angle to an autonomous vehicle\n",
    "\n",
    "<figure>\n",
    "    <img  src=\"./images/cloning.gif\" alt=\"Drawing\" style=\"width: 450px;\"/>\n",
    "    <center>Behavioral Cloning</center>\n",
    "</figure>\n",
    "\n"
   ]
  },
  {
   "cell_type": "markdown",
   "metadata": {},
   "source": [
    "### Project 6: PID Control\n",
    "\n",
    "This project is to develop a PID controller given the cross track error (CTE) and the velocity (mph) provided by simulator. The goal is the car can be successfully naviated around the track\n",
    "\n",
    "<figure>\n",
    "    <img  src=\"./images/pid.gif\" alt=\"Drawing\" style=\"width: 450px;\"/>\n",
    "    <center>PID Control</center>\n",
    "</figure>\n",
    "\n"
   ]
  },
  {
   "cell_type": "markdown",
   "metadata": {},
   "source": [
    "### Project 7: Path Planning\n",
    "\n",
    "The goal of this project is to safely navigate around a virtual highway with other traffic that is driving +-10 MPH of the 50 MPH speed limit. The car's localization and sensor fusion data are given, there is also a sparse map list of waypoints around the highway.\n",
    "\n",
    "<figure>\n",
    "    <img  src=\"./images/path_planing.gif\" alt=\"Drawing\" style=\"width: 450px;\"/>\n",
    "    <center>Path Planning</center>\n",
    "</figure>\n",
    "\n"
   ]
  },
  {
   "cell_type": "markdown",
   "metadata": {},
   "source": [
    "### Project 8: Programming Real Car\n",
    "\n",
    "The goal of this project is to safely navigate around a virtual highway with other traffic that is driving +-10 MPH of the 50 MPH speed limit. The car's localization and sensor fusion data are given, there is also a sparse map list of waypoints around the highway.\n",
    "\n",
    "<figure>\n",
    "    <img  src=\"./images/capstone.gif\" alt=\"Drawing\" style=\"width: 450px;\"/>\n",
    "</figure>\n",
    "\n"
   ]
  }
 ],
 "metadata": {
  "kernelspec": {
   "display_name": "Python 2",
   "language": "python",
   "name": "python2"
  },
  "language_info": {
   "codemirror_mode": {
    "name": "ipython",
    "version": 2
   },
   "file_extension": ".py",
   "mimetype": "text/x-python",
   "name": "python",
   "nbconvert_exporter": "python",
   "pygments_lexer": "ipython2",
   "version": "2.7.12"
  }
 },
 "nbformat": 4,
 "nbformat_minor": 2
}
